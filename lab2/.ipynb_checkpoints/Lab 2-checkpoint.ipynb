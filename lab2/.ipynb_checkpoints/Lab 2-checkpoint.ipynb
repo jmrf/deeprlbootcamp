{
 "cells": [
  {
   "cell_type": "code",
   "execution_count": 1,
   "metadata": {},
   "outputs": [],
   "source": [
    "\"\"\"\n",
    "This project was developed by Peter Chen, Rocky Duan, Pieter Abbeel for the Berkeley Deep RL Bootcamp, August 2017.\n",
    "Bootcamp website with slides and lecture videos: https://sites.google.com/view/deep-rl-bootcamp/.\n",
    "\n",
    "Code adapted from Stanford CS231N materials: http://cs231n.stanford.edu/\n",
    "\"\"\"\n",
    "\n",
    "\n",
    "# note to properly run this lab, you should execute all code blocks sequentially\n",
    "import chainer\n",
    "import chainer.functions as F\n",
    "import chainer.links as L\n",
    "from chainer import training\n",
    "from chainer.training import extensions\n",
    "\n",
    "from collections import namedtuple, defaultdict, deque\n",
    "\n",
    "import numpy as np\n",
    "\n",
    "%matplotlib inline\n",
    "\n",
    "import matplotlib\n",
    "import matplotlib.pyplot as plt"
   ]
  },
  {
   "cell_type": "markdown",
   "metadata": {},
   "source": [
    "## Introduction to Chainer\n",
    "\n",
    "Chainer can be understood as Numpy plus the ability to record the computation graph of numerical operations to enable Automatic Differentiation. (Chainer actually also offers many other things; for example, a Numpy equivalent library that runs on GPU, but we will ignore them for now)"
   ]
  },
  {
   "cell_type": "markdown",
   "metadata": {},
   "source": [
    "Let's illustrate how Chainer works by a simple 1D regression task.\n",
    "\n",
    "Suppose we have observations from the following model $y = w x + b + \\epsilon$ where $\\epsilon \\sim \\mathcal{N}(0, 0.1)$ and the task is to estimate the linear model parameters $w, b$ from data."
   ]
  },
  {
   "cell_type": "code",
   "execution_count": 2,
   "metadata": {},
   "outputs": [
    {
     "data": {
      "image/png": "[encoded data removed]",
      "text/plain": [
       "<matplotlib.figure.Figure at 0x7f06067602e8>"
      ]
     },
     "metadata": {},
     "output_type": "display_data"
    }
   ],
   "source": [
    "# first generate some observations\n",
    "true_a = 1.3\n",
    "true_b = 0.4\n",
    "data_x = (np.arange(100) / 99.0 - .5).astype(np.float32) # Chainer assumes all the cpu computation is done in float32\n",
    "data_y = (data_x * true_a + true_b + np.random.randn(*data_x.shape) * 0.1).astype(np.float32)\n",
    "_ = plt.scatter(data_x, data_y, c='b')"
   ]
  },
  {
   "cell_type": "markdown",
   "metadata": {},
   "source": [
    "Chainer provides an abstraction called `Link` that describe some computation and keeps track of parameters for it. For instance, a `Linear` link describes a linear map on input and keeps track of `w` and bias `b`."
   ]
  },
  {
   "cell_type": "code",
   "execution_count": 3,
   "metadata": {},
   "outputs": [
    {
     "name": "stdout",
     "output_type": "stream",
     "text": [
      "w: variable W([[ 1.9452194]])\n",
      "b: variable b([ 0.])\n",
      "Operations on chainer.Variable: variable([[ 124.94522095]]), type: <class 'chainer.variable.Variable'>\n",
      "numpy arrays: [[ 1.9452194]] [[ 124.94522095]]\n"
     ]
    }
   ],
   "source": [
    "model = L.Linear(in_size=1, out_size=1) # input is 1D data and output is also 1D data\n",
    "\n",
    "# Chainer will randomly initialize `w` and `b` for us.\n",
    "# we can take a look at their values\n",
    "print(\"w:\", model.W)\n",
    "print(\"b:\", model.b)\n",
    "\n",
    "# model.W and model.b have type `chainer.Variable`, \n",
    "#   which is a wrapper around Numpy array\n",
    "assert isinstance(model.W, chainer.Variable)\n",
    "\n",
    "# operations that involve `chainer.Variable` will produce\n",
    "#   `chainer.Variable` and this records the computation graph\n",
    "var_result = model.W + 123 # some random computation\n",
    "print(\"Operations on chainer.Variable: %s, type: %s\" % (var_result, type(var_result)))\n",
    "\n",
    "# the underlying numpy array can be accessed by `data` attribute\n",
    "print(\"numpy arrays:\", model.W.data, var_result.data)"
   ]
  },
  {
   "cell_type": "code",
   "execution_count": 4,
   "metadata": {},
   "outputs": [
    {
     "data": {
      "image/png": "[encoded data removed]",
      "text/plain": [
       "<matplotlib.figure.Figure at 0x7f0606756f60>"
      ]
     },
     "metadata": {},
     "output_type": "display_data"
    }
   ],
   "source": [
    "# A chainer link is a callable object. calling it performs the\n",
    "#   forward computation. (in this case, it performs Wx + b)\n",
    "model_y = model(data_x[:, None]) # chainer's link usually assumes input is [Batch Size, Input Dimension]\n",
    "# `model_y` is a chainer variable so we use `.data` to access its numpy array for plotting\n",
    "\n",
    "# we can plot the model's current fit in red. it should be terrible because we haven't trained it yet\n",
    "_ = plt.plot(data_x, model_y.data[:,0], c='r')\n",
    "_ = plt.scatter(data_x, data_y, c='b')\n",
    "_ = plt.title(\"Initial model\")"
   ]
  },
  {
   "cell_type": "code",
   "execution_count": 5,
   "metadata": {},
   "outputs": [
    {
     "name": "stdout",
     "output_type": "stream",
     "text": [
      "loss variable(0.20357869565486908)\n",
      "dloss/dW [[ 0.10937069]]\n"
     ]
    }
   ],
   "source": [
    "# now let's walk through how to perform forward computation\n",
    "#  and use AD to get gradients\n",
    "\n",
    "# first we clear the gradients that are stored in the model\n",
    "model.cleargrads()\n",
    "# as we have seen we can perform forward computation by calling the link\n",
    "model_y = model(data_x[:, None])\n",
    "\n",
    "# remember that `model_y` is a chainer variable. to operate on chainer variable\n",
    "#    we will use functions from chainer.functions to operate on those objects.\n",
    "loss = F.mean(F.square(model_y - data_y[:, None]))\n",
    "# `loss` is a scalar chainer variable\n",
    "assert isinstance(loss, chainer.Variable)\n",
    "print(\"loss\", loss)\n",
    "# calculating gradients d loss /d params is as simple as\n",
    "loss.backward()\n",
    "\n",
    "# we can inspect the gradient of loss with respect to W\n",
    "print(\"dloss/dW\", model.W.grad)"
   ]
  },
  {
   "cell_type": "markdown",
   "metadata": {},
   "source": [
    "Now that we know how to calculate gradients, we can code up a simple loop to perform gradient descent to train this model:\n",
    "\n",
    "(Hint: if you run into weird problems, maybe the state has been messed up and you can try re-runing all the code blocks from the beginning)"
   ]
  },
  {
   "cell_type": "code",
   "execution_count": 15,
   "metadata": {},
   "outputs": [
    {
     "name": "stdout",
     "output_type": "stream",
     "text": [
      "Itr 0 loss: variable(0.17236600816249847)\n",
      "Itr 25 loss: variable(0.010361474938690662)\n",
      "Itr 50 loss: variable(0.009391313418745995)\n",
      "Itr 75 loss: variable(0.008980708196759224)\n"
     ]
    },
    {
     "data": {
      "image/png": "[encoded data removed]",
      "text/plain": [
       "<matplotlib.figure.Figure at 0x7f05fd9ef6a0>"
      ]
     },
     "metadata": {},
     "output_type": "display_data"
    },
    {
     "data": {
      "image/png": "[encoded data removed]",
      "text/plain": [
       "<matplotlib.figure.Figure at 0x7f05fd887e80>"
      ]
     },
     "metadata": {},
     "output_type": "display_data"
    }
   ],
   "source": [
    "# now we can perform gradient descent to improve this model\n",
    "model = L.Linear(in_size=1, out_size=1)\n",
    "losses = []\n",
    "lr = 1e-1\n",
    "\n",
    "for i in range(100):\n",
    "    model.cleargrads()\n",
    "    loss = F.mean(F.square(model(data_x[:, None]) - data_y[:, None]))\n",
    "    losses.append(float(loss.data))\n",
    "    ## *** YOUR CODE HERE TO PERFORM GRADIENT DESCENT ***\n",
    "    ## Hint: you could access gradients with model.W.grad, model.b.grad\n",
    "    ## Hint2: you could write data into a parameter with model.W.data[:] = some_numpy_array\n",
    "    ## Hint3: if your model doesn't learn, remember to try different learning rates\n",
    "    loss.backward()\n",
    "    model.W.data[:] -= model.W.grad * lr\n",
    "    model.b.data[:] -= model.b.grad * lr\n",
    "    \n",
    "    if i % 25 == 0:\n",
    "        print(\"Itr\", i, \"loss:\", loss)\n",
    "        \n",
    "plt.plot(np.array(losses))\n",
    "plt.title(\"Learning curve\")\n",
    "plt.figure()\n",
    "plt.plot(data_x, model(data_x[:, None])[:,0].data, c='r')\n",
    "plt.scatter(data_x, data_y, c='b')\n",
    "_ = plt.title(\"Trained model fitness\")\n"
   ]
  },
  {
   "cell_type": "markdown",
   "metadata": {},
   "source": [
    "## Train your first deep model\n",
    "\n",
    "Now we have learned the basics of Chainer. We can use it to train a deep model to classify MNIST digits. We will train a model on the MNIST dataset because the dataset is small.\n",
    "\n",
    "First we load the data and see what the images look like:"
   ]
  },
  {
   "cell_type": "code",
   "execution_count": 16,
   "metadata": {
    "scrolled": false
   },
   "outputs": [
    {
     "name": "stdout",
     "output_type": "stream",
     "text": [
      "Downloading from http://yann.lecun.com/exdb/mnist/train-images-idx3-ubyte.gz...\n",
      "Downloading from http://yann.lecun.com/exdb/mnist/train-labels-idx1-ubyte.gz...\n",
      "Downloading from http://yann.lecun.com/exdb/mnist/t10k-images-idx3-ubyte.gz...\n",
      "Downloading from http://yann.lecun.com/exdb/mnist/t10k-labels-idx1-ubyte.gz...\n",
      "train[i][0] is the ith image that's flattened, and has shape: (784,)\n",
      "train[i][1] is the ith image's label, such as: 3\n"
     ]
    },
    {
     "data": {
      "image/png": "[encoded data removed]",
      "text/plain": [
       "<matplotlib.figure.Figure at 0x7f05fd9776d8>"
      ]
     },
     "metadata": {},
     "output_type": "display_data"
    },
    {
     "data": {
      "image/png": "[encoded data removed]",
      "text/plain": [
       "<matplotlib.figure.Figure at 0x7f05fdacd5c0>"
      ]
     },
     "metadata": {},
     "output_type": "display_data"
    }
   ],
   "source": [
    "train, test = chainer.datasets.get_mnist()\n",
    "# use train[data_point_index] to access data\n",
    "print(\"train[i][0] is the ith image that's flattened, and has shape:\", train[12][0].shape)\n",
    "print(\"train[i][1] is the ith image's label, such as:\", train[12][1])\n",
    "# here we visualize two of them\n",
    "plt.imshow(train[12][0].reshape([28, 28,]))\n",
    "plt.title(\"Label: %s\" % train[12][1])\n",
    "plt.figure()\n",
    "plt.imshow(train[42][0].reshape([28, 28,]))\n",
    "_ = plt.title(\"Label: %s\" % train[42][1])"
   ]
  },
  {
   "cell_type": "markdown",
   "metadata": {},
   "source": [
    "Next we will provide some boilerplate code and train a linear classifier as an example:"
   ]
  },
  {
   "cell_type": "code",
   "execution_count": 17,
   "metadata": {},
   "outputs": [
    {
     "name": "stdout",
     "output_type": "stream",
     "text": [
      "loss: 2.32731676102; accuracy: 0.1875\n",
      "loss: 0.63309163332; accuracy: 0.8525\n",
      "loss: 0.511741262674; accuracy: 0.8625\n",
      "loss: 0.435435515642; accuracy: 0.89\n",
      "loss: 0.420108770728; accuracy: 0.875\n",
      "loss: 0.341604737639; accuracy: 0.9175\n",
      "loss: 0.339240906537; accuracy: 0.9075\n",
      "loss: 0.312447714806; accuracy: 0.9\n",
      "loss: 0.32544667691; accuracy: 0.8925\n",
      "loss: 0.377170864344; accuracy: 0.9075\n",
      "loss: 0.367004396617; accuracy: 0.9075\n",
      "loss: 0.299415538013; accuracy: 0.915\n",
      "loss: 0.269865450859; accuracy: 0.93\n",
      "loss: 0.325268394947; accuracy: 0.8975\n",
      "loss: 0.295295479596; accuracy: 0.9225\n",
      "loss: 0.260908046067; accuracy: 0.915\n",
      "loss: 0.298951209784; accuracy: 0.915\n",
      "loss: 0.277545250058; accuracy: 0.9175\n",
      "loss: 0.242529130578; accuracy: 0.94\n",
      "loss: 0.283090580106; accuracy: 0.91\n",
      "loss: 0.319585180283; accuracy: 0.92\n",
      "loss: 0.315192376375; accuracy: 0.92\n",
      "loss: 0.267228444517; accuracy: 0.93\n",
      "loss: 0.281083258688; accuracy: 0.925\n",
      "loss: 0.241879730523; accuracy: 0.92\n",
      "loss: 0.329010712504; accuracy: 0.9075\n"
     ]
    }
   ],
   "source": [
    "def run(model, batchsize=16, num_epochs=2):\n",
    "    \n",
    "    optimizer = chainer.optimizers.Adam() # we will use chainer's Adam implementation instead of writing our own gradient based optimization\n",
    "    optimizer.setup(model)\n",
    "    \n",
    "    stats = defaultdict(lambda: deque(maxlen=25))\n",
    "    for epoch in range(num_epochs):\n",
    "        train_iter = chainer.iterators.SerialIterator(train, batchsize, repeat=False, shuffle=True)\n",
    "        test_iter = chainer.iterators.SerialIterator(test, batchsize, repeat=False, shuffle=False)\n",
    "        \n",
    "        for itr, batch in enumerate(train_iter):\n",
    "            xs = np.concatenate([datum[0][None, :] for datum in batch])\n",
    "            ys = np.array([datum[1] for datum in batch])\n",
    "\n",
    "            logits = model(xs)\n",
    "\n",
    "            loss = F.softmax_cross_entropy(logits, ys)\n",
    "            model.cleargrads()\n",
    "            loss.backward()\n",
    "            optimizer.update()\n",
    "            \n",
    "            # calculate stats\n",
    "            stats[\"loss\"].append(float(loss.data))\n",
    "            stats[\"accuracy\"].append(float((logits.data.argmax(1) == ys).sum() / batchsize))\n",
    "            if itr % 300 == 0:\n",
    "                print(\"; \".join(\"%s: %s\" % (k, np.mean(vs)) for k, vs in stats.items()))\n",
    "\n",
    "# try a simple linear model\n",
    "run(L.Linear(None, 10))"
   ]
  },
  {
   "cell_type": "markdown",
   "metadata": {},
   "source": [
    "Next we will try to improve performance by training an MLP instead. A partial implementation is provided for you to fill in:"
   ]
  },
  {
   "cell_type": "code",
   "execution_count": 21,
   "metadata": {},
   "outputs": [
    {
     "name": "stdout",
     "output_type": "stream",
     "text": [
      "loss: 2.28304719925; accuracy: 0.0625\n",
      "loss: 1.07673362732; accuracy: 0.85\n",
      "loss: 0.965447540283; accuracy: 0.93\n",
      "loss: 0.971588475704; accuracy: 0.8825\n",
      "loss: 0.96333792448; accuracy: 0.91\n",
      "loss: 0.927684442997; accuracy: 0.9325\n",
      "loss: 0.939561431408; accuracy: 0.92\n",
      "loss: 0.905939531326; accuracy: 0.935\n",
      "loss: 0.93511431694; accuracy: 0.915\n",
      "loss: 0.912052886486; accuracy: 0.9375\n",
      "loss: 0.865724406242; accuracy: 0.9625\n",
      "loss: 0.885560188293; accuracy: 0.95\n",
      "loss: 0.894889755249; accuracy: 0.94\n",
      "loss: 0.876984417439; accuracy: 0.955\n",
      "loss: 0.879464914799; accuracy: 0.9625\n",
      "loss: 0.864699773788; accuracy: 0.96\n",
      "loss: 0.863276267052; accuracy: 0.96\n",
      "loss: 0.898095767498; accuracy: 0.9475\n",
      "loss: 0.878540048599; accuracy: 0.95\n",
      "loss: 0.878396294117; accuracy: 0.955\n",
      "loss: 0.905546216965; accuracy: 0.9375\n",
      "loss: 0.861569354534; accuracy: 0.9575\n",
      "loss: 0.877037870884; accuracy: 0.9575\n",
      "loss: 0.846937086582; accuracy: 0.9775\n",
      "loss: 0.849535799026; accuracy: 0.965\n",
      "loss: 0.827808918953; accuracy: 0.9825\n"
     ]
    }
   ],
   "source": [
    "class MLP(chainer.Chain):\n",
    "\n",
    "    def __init__(self, n_units, n_out):\n",
    "        super(MLP, self).__init__()\n",
    "        with self.init_scope():\n",
    "            # the size of the inputs to each layer will be inferred\n",
    "            self.l1 = L.Linear(None, n_units)  # n_in -> n_units\n",
    "            self.l2 = L.Linear(None, n_units)  # n_units -> n_units\n",
    "            self.l3 = L.Linear(None, n_out)  # n_units -> n_out\n",
    "\n",
    "    def __call__(self, x):\n",
    "        # *** YOUR CODE HERE TO BUILD AN MLP W/ self.l1, self.l2, self.l3 ***\n",
    "        # \n",
    "        # Hint: you should make use of non-linearities / activation functions\n",
    "        #     https://docs.chainer.org/en/stable/reference/functions.html#activation-functions\n",
    "        return F.tanh(self.l3(F.tanh(self.l2(F.tanh(self.l1(x))))))\n",
    "    \n",
    "run(MLP(200, 10))"
   ]
  },
  {
   "cell_type": "markdown",
   "metadata": {},
   "source": [
    "Next you should try to implement logging test loss and see if the model is overfitting."
   ]
  },
  {
   "cell_type": "code",
   "execution_count": 33,
   "metadata": {},
   "outputs": [
    {
     "name": "stdout",
     "output_type": "stream",
     "text": [
      "test_accuracy: 0.12; loss: 2.31438827515; test_loss: 2.29858745575; accuracy: 0.0\n",
      "test_accuracy: 0.72; loss: 1.1513884902; test_loss: 1.28177487373; accuracy: 0.83\n",
      "test_accuracy: 0.79; loss: 1.15282155037; test_loss: 1.1878202939; accuracy: 0.82\n",
      "test_accuracy: 0.84; loss: 1.06269103765; test_loss: 1.09403191566; accuracy: 0.83\n",
      "test_accuracy: 0.87; loss: 1.06250838757; test_loss: 1.08538803577; accuracy: 0.88\n",
      "test_accuracy: 0.85; loss: 0.975865299702; test_loss: 1.0387620163; accuracy: 0.9\n",
      "test_accuracy: 0.82; loss: 1.02925050497; test_loss: 1.13291007519; accuracy: 0.86\n",
      "test_accuracy: 0.84; loss: 0.985792233944; test_loss: 1.06662734747; accuracy: 0.88\n",
      "test_accuracy: 0.88; loss: 0.970045080185; test_loss: 1.04141947985; accuracy: 0.89\n",
      "test_accuracy: 0.85; loss: 1.01900388002; test_loss: 1.08195172787; accuracy: 0.9\n",
      "test_accuracy: 0.83; loss: 0.904677934647; test_loss: 1.07016011715; accuracy: 0.94\n",
      "test_accuracy: 0.91; loss: 0.915703442097; test_loss: 0.994647324085; accuracy: 0.92\n",
      "test_accuracy: 0.85; loss: 0.999080035686; test_loss: 1.03627080679; accuracy: 0.88\n",
      "test_accuracy: 0.86; loss: 0.979870233536; test_loss: 1.06383113384; accuracy: 0.9\n",
      "test_accuracy: 0.89; loss: 0.980285065174; test_loss: 0.977243390083; accuracy: 0.91\n",
      "test_accuracy: 0.9; loss: 0.924644303322; test_loss: 1.00318608999; accuracy: 0.92\n",
      "test_accuracy: 0.9; loss: 0.950383961201; test_loss: 0.962608120441; accuracy: 0.94\n",
      "test_accuracy: 0.89; loss: 0.848899819851; test_loss: 1.01513500214; accuracy: 0.97\n",
      "test_accuracy: 0.93; loss: 0.94793084383; test_loss: 0.933993301392; accuracy: 0.92\n",
      "test_accuracy: 0.88; loss: 0.964581525326; test_loss: 0.97025775671; accuracy: 0.92\n",
      "test_accuracy: 0.9; loss: 0.976252002716; test_loss: 0.969911944866; accuracy: 0.89\n",
      "test_accuracy: 0.87; loss: 0.947728981972; test_loss: 0.98578275919; accuracy: 0.92\n",
      "test_accuracy: 0.9; loss: 0.979283576012; test_loss: 0.976562416553; accuracy: 0.91\n",
      "test_accuracy: 0.88; loss: 1.00864945173; test_loss: 1.00560027838; accuracy: 0.87\n",
      "test_accuracy: 0.91; loss: 0.953895773888; test_loss: 0.960245389938; accuracy: 0.92\n",
      "test_accuracy: 0.92; loss: 0.957440910339; test_loss: 0.965533549786; accuracy: 0.9\n",
      "test_accuracy: 0.92; loss: 0.886300415993; test_loss: 0.915691831112; accuracy: 0.94\n",
      "test_accuracy: 0.9; loss: 0.975760905743; test_loss: 0.973579819202; accuracy: 0.89\n",
      "test_accuracy: 0.93; loss: 0.91594673872; test_loss: 0.975397970676; accuracy: 0.95\n",
      "test_accuracy: 0.89; loss: 0.846895439625; test_loss: 0.965618538857; accuracy: 0.98\n",
      "test_accuracy: 0.89; loss: 0.890657253265; test_loss: 0.955776910782; accuracy: 0.95\n",
      "test_accuracy: 0.9; loss: 0.915684835911; test_loss: 0.975798089504; accuracy: 0.93\n",
      "test_accuracy: 0.87; loss: 0.913116803169; test_loss: 1.01345034361; accuracy: 0.94\n",
      "test_accuracy: 0.89; loss: 0.879265227318; test_loss: 0.959099407196; accuracy: 0.95\n",
      "test_accuracy: 0.92; loss: 0.868144471645; test_loss: 0.947519919872; accuracy: 0.94\n",
      "test_accuracy: 0.91; loss: 0.906203477383; test_loss: 0.993487622738; accuracy: 0.94\n",
      "test_accuracy: 0.86; loss: 0.884090080261; test_loss: 0.963960602283; accuracy: 0.95\n",
      "test_accuracy: 0.93; loss: 0.887898068428; test_loss: 0.960004594326; accuracy: 0.93\n",
      "test_accuracy: 0.93; loss: 0.882020065784; test_loss: 0.941145758629; accuracy: 0.96\n",
      "test_accuracy: 0.93; loss: 0.850131444931; test_loss: 0.944557054043; accuracy: 0.97\n",
      "test_accuracy: 0.92; loss: 0.931722111702; test_loss: 0.957822310925; accuracy: 0.93\n",
      "test_accuracy: 0.9; loss: 0.922253184319; test_loss: 0.976458775997; accuracy: 0.94\n",
      "test_accuracy: 0.91; loss: 0.985052587986; test_loss: 0.97478001833; accuracy: 0.9\n",
      "test_accuracy: 0.9; loss: 0.878892829418; test_loss: 0.94334097147; accuracy: 0.94\n",
      "test_accuracy: 0.93; loss: 0.95848274231; test_loss: 0.933220632076; accuracy: 0.89\n",
      "test_accuracy: 0.93; loss: 0.871731863022; test_loss: 0.935891282558; accuracy: 0.95\n",
      "test_accuracy: 0.91; loss: 0.830206305981; test_loss: 0.975982868671; accuracy: 0.99\n",
      "test_accuracy: 0.91; loss: 0.898318660259; test_loss: 0.930525283813; accuracy: 0.94\n",
      "test_accuracy: 0.93; loss: 0.829161777496; test_loss: 0.949328517914; accuracy: 0.99\n",
      "test_accuracy: 0.94; loss: 0.932844409943; test_loss: 0.920600235462; accuracy: 0.93\n",
      "test_accuracy: 0.94; loss: 0.818048694134; test_loss: 0.921742362976; accuracy: 0.99\n",
      "test_accuracy: 0.93; loss: 0.924366810322; test_loss: 0.933854792118; accuracy: 0.92\n",
      "test_accuracy: 0.93; loss: 0.850047559738; test_loss: 0.946062841415; accuracy: 0.97\n",
      "test_accuracy: 0.9; loss: 0.894805288315; test_loss: 0.962623169422; accuracy: 0.95\n",
      "test_accuracy: 0.89; loss: 0.853507692814; test_loss: 0.991105308533; accuracy: 0.96\n",
      "test_accuracy: 0.9; loss: 0.840651512146; test_loss: 0.967541434765; accuracy: 0.96\n",
      "test_accuracy: 0.88; loss: 0.862952592373; test_loss: 1.01005980015; accuracy: 0.94\n"
     ]
    },
    {
     "ename": "KeyboardInterrupt",
     "evalue": "",
     "output_type": "error",
     "traceback": [
      "\u001b[0;31m---------------------------------------------------------------------------\u001b[0m",
      "\u001b[0;31mKeyboardInterrupt\u001b[0m                         Traceback (most recent call last)",
      "\u001b[0;32m<ipython-input-33-58539318198e>\u001b[0m in \u001b[0;36m<module>\u001b[0;34m()\u001b[0m\n\u001b[1;32m     34\u001b[0m                 \u001b[0mprint\u001b[0m\u001b[0;34m(\u001b[0m\u001b[0;34m\"; \"\u001b[0m\u001b[0;34m.\u001b[0m\u001b[0mjoin\u001b[0m\u001b[0;34m(\u001b[0m\u001b[0;34m\"%s: %s\"\u001b[0m \u001b[0;34m%\u001b[0m \u001b[0;34m(\u001b[0m\u001b[0mk\u001b[0m\u001b[0;34m,\u001b[0m \u001b[0mnp\u001b[0m\u001b[0;34m.\u001b[0m\u001b[0mmean\u001b[0m\u001b[0;34m(\u001b[0m\u001b[0mvs\u001b[0m\u001b[0;34m)\u001b[0m\u001b[0;34m)\u001b[0m \u001b[0;32mfor\u001b[0m \u001b[0mk\u001b[0m\u001b[0;34m,\u001b[0m \u001b[0mvs\u001b[0m \u001b[0;32min\u001b[0m \u001b[0mstats\u001b[0m\u001b[0;34m.\u001b[0m\u001b[0mitems\u001b[0m\u001b[0;34m(\u001b[0m\u001b[0;34m)\u001b[0m\u001b[0;34m)\u001b[0m\u001b[0;34m)\u001b[0m\u001b[0;34m\u001b[0m\u001b[0m\n\u001b[1;32m     35\u001b[0m \u001b[0;34m\u001b[0m\u001b[0m\n\u001b[0;32m---> 36\u001b[0;31m \u001b[0mbetter_run\u001b[0m\u001b[0;34m(\u001b[0m\u001b[0mMLP\u001b[0m\u001b[0;34m(\u001b[0m\u001b[0;36m200\u001b[0m\u001b[0;34m,\u001b[0m \u001b[0;36m10\u001b[0m\u001b[0;34m)\u001b[0m\u001b[0;34m)\u001b[0m\u001b[0;34m\u001b[0m\u001b[0m\n\u001b[0m",
      "\u001b[0;32m<ipython-input-33-58539318198e>\u001b[0m in \u001b[0;36mbetter_run\u001b[0;34m(model, batchsize, num_epochs)\u001b[0m\n\u001b[1;32m     27\u001b[0m                     \u001b[0mtest_xs\u001b[0m \u001b[0;34m=\u001b[0m \u001b[0mnp\u001b[0m\u001b[0;34m.\u001b[0m\u001b[0mconcatenate\u001b[0m\u001b[0;34m(\u001b[0m\u001b[0;34m[\u001b[0m\u001b[0mdatum\u001b[0m\u001b[0;34m[\u001b[0m\u001b[0;36m0\u001b[0m\u001b[0;34m]\u001b[0m\u001b[0;34m[\u001b[0m\u001b[0;32mNone\u001b[0m\u001b[0;34m,\u001b[0m \u001b[0;34m:\u001b[0m\u001b[0;34m]\u001b[0m \u001b[0;32mfor\u001b[0m \u001b[0mdatum\u001b[0m \u001b[0;32min\u001b[0m \u001b[0mtest_batch\u001b[0m\u001b[0;34m]\u001b[0m\u001b[0;34m)\u001b[0m\u001b[0;34m\u001b[0m\u001b[0m\n\u001b[1;32m     28\u001b[0m                     \u001b[0mtest_ys\u001b[0m \u001b[0;34m=\u001b[0m \u001b[0mnp\u001b[0m\u001b[0;34m.\u001b[0m\u001b[0marray\u001b[0m\u001b[0;34m(\u001b[0m\u001b[0;34m[\u001b[0m\u001b[0mdatum\u001b[0m\u001b[0;34m[\u001b[0m\u001b[0;36m1\u001b[0m\u001b[0;34m]\u001b[0m \u001b[0;32mfor\u001b[0m \u001b[0mdatum\u001b[0m \u001b[0;32min\u001b[0m \u001b[0mtest_batch\u001b[0m\u001b[0;34m]\u001b[0m\u001b[0;34m)\u001b[0m\u001b[0;34m\u001b[0m\u001b[0m\n\u001b[0;32m---> 29\u001b[0;31m                     \u001b[0mtest_logits\u001b[0m \u001b[0;34m=\u001b[0m \u001b[0mmodel\u001b[0m\u001b[0;34m(\u001b[0m\u001b[0mtest_xs\u001b[0m\u001b[0;34m)\u001b[0m\u001b[0;34m\u001b[0m\u001b[0m\n\u001b[0m\u001b[1;32m     30\u001b[0m                     \u001b[0mtest_loss\u001b[0m \u001b[0;34m=\u001b[0m \u001b[0mF\u001b[0m\u001b[0;34m.\u001b[0m\u001b[0msoftmax_cross_entropy\u001b[0m\u001b[0;34m(\u001b[0m\u001b[0mtest_logits\u001b[0m\u001b[0;34m,\u001b[0m \u001b[0mtest_ys\u001b[0m\u001b[0;34m)\u001b[0m\u001b[0;34m\u001b[0m\u001b[0m\n\u001b[1;32m     31\u001b[0m                     \u001b[0mstats\u001b[0m\u001b[0;34m[\u001b[0m\u001b[0;34m\"test_loss\"\u001b[0m\u001b[0;34m]\u001b[0m\u001b[0;34m.\u001b[0m\u001b[0mappend\u001b[0m\u001b[0;34m(\u001b[0m\u001b[0mfloat\u001b[0m\u001b[0;34m(\u001b[0m\u001b[0mtest_loss\u001b[0m\u001b[0;34m.\u001b[0m\u001b[0mdata\u001b[0m\u001b[0;34m)\u001b[0m\u001b[0;34m)\u001b[0m\u001b[0;34m\u001b[0m\u001b[0m\n",
      "\u001b[0;32m<ipython-input-21-50a787f77bfd>\u001b[0m in \u001b[0;36m__call__\u001b[0;34m(self, x)\u001b[0m\n\u001b[1;32m     14\u001b[0m         \u001b[0;31m# Hint: you should make use of non-linearities / activation functions\u001b[0m\u001b[0;34m\u001b[0m\u001b[0;34m\u001b[0m\u001b[0m\n\u001b[1;32m     15\u001b[0m         \u001b[0;31m#     https://docs.chainer.org/en/stable/reference/functions.html#activation-functions\u001b[0m\u001b[0;34m\u001b[0m\u001b[0;34m\u001b[0m\u001b[0m\n\u001b[0;32m---> 16\u001b[0;31m         \u001b[0;32mreturn\u001b[0m \u001b[0mF\u001b[0m\u001b[0;34m.\u001b[0m\u001b[0mtanh\u001b[0m\u001b[0;34m(\u001b[0m\u001b[0mself\u001b[0m\u001b[0;34m.\u001b[0m\u001b[0ml3\u001b[0m\u001b[0;34m(\u001b[0m\u001b[0mF\u001b[0m\u001b[0;34m.\u001b[0m\u001b[0mtanh\u001b[0m\u001b[0;34m(\u001b[0m\u001b[0mself\u001b[0m\u001b[0;34m.\u001b[0m\u001b[0ml2\u001b[0m\u001b[0;34m(\u001b[0m\u001b[0mF\u001b[0m\u001b[0;34m.\u001b[0m\u001b[0mtanh\u001b[0m\u001b[0;34m(\u001b[0m\u001b[0mself\u001b[0m\u001b[0;34m.\u001b[0m\u001b[0ml1\u001b[0m\u001b[0;34m(\u001b[0m\u001b[0mx\u001b[0m\u001b[0;34m)\u001b[0m\u001b[0;34m)\u001b[0m\u001b[0;34m)\u001b[0m\u001b[0;34m)\u001b[0m\u001b[0;34m)\u001b[0m\u001b[0;34m)\u001b[0m\u001b[0;34m\u001b[0m\u001b[0m\n\u001b[0m\u001b[1;32m     17\u001b[0m \u001b[0;34m\u001b[0m\u001b[0m\n\u001b[1;32m     18\u001b[0m \u001b[0mrun\u001b[0m\u001b[0;34m(\u001b[0m\u001b[0mMLP\u001b[0m\u001b[0;34m(\u001b[0m\u001b[0;36m200\u001b[0m\u001b[0;34m,\u001b[0m \u001b[0;36m10\u001b[0m\u001b[0;34m)\u001b[0m\u001b[0;34m)\u001b[0m\u001b[0;34m\u001b[0m\u001b[0m\n",
      "\u001b[0;32m~/anaconda3/envs/deeprlbootcamp/lib/python3.5/site-packages/chainer/functions/activation/tanh.py\u001b[0m in \u001b[0;36mtanh\u001b[0;34m(x)\u001b[0m\n\u001b[1;32m     84\u001b[0m \u001b[0;34m\u001b[0m\u001b[0m\n\u001b[1;32m     85\u001b[0m     \"\"\"\n\u001b[0;32m---> 86\u001b[0;31m     \u001b[0;32mreturn\u001b[0m \u001b[0mTanh\u001b[0m\u001b[0;34m(\u001b[0m\u001b[0;34m)\u001b[0m\u001b[0;34m(\u001b[0m\u001b[0mx\u001b[0m\u001b[0;34m)\u001b[0m\u001b[0;34m\u001b[0m\u001b[0m\n\u001b[0m",
      "\u001b[0;32m~/anaconda3/envs/deeprlbootcamp/lib/python3.5/site-packages/chainer/function.py\u001b[0m in \u001b[0;36m__call__\u001b[0;34m(self, *inputs)\u001b[0m\n\u001b[1;32m    211\u001b[0m \u001b[0;34m\u001b[0m\u001b[0m\n\u001b[1;32m    212\u001b[0m         ret = tuple([variable.Variable(y, requires_grad=requires_grad)\n\u001b[0;32m--> 213\u001b[0;31m                      for y in outputs])\n\u001b[0m\u001b[1;32m    214\u001b[0m \u001b[0;34m\u001b[0m\u001b[0m\n\u001b[1;32m    215\u001b[0m         \u001b[0;32mif\u001b[0m \u001b[0mconfiguration\u001b[0m\u001b[0;34m.\u001b[0m\u001b[0mconfig\u001b[0m\u001b[0;34m.\u001b[0m\u001b[0menable_backprop\u001b[0m\u001b[0;34m:\u001b[0m\u001b[0;34m\u001b[0m\u001b[0m\n",
      "\u001b[0;32m~/anaconda3/envs/deeprlbootcamp/lib/python3.5/site-packages/chainer/function.py\u001b[0m in \u001b[0;36m<listcomp>\u001b[0;34m(.0)\u001b[0m\n\u001b[1;32m    211\u001b[0m \u001b[0;34m\u001b[0m\u001b[0m\n\u001b[1;32m    212\u001b[0m         ret = tuple([variable.Variable(y, requires_grad=requires_grad)\n\u001b[0;32m--> 213\u001b[0;31m                      for y in outputs])\n\u001b[0m\u001b[1;32m    214\u001b[0m \u001b[0;34m\u001b[0m\u001b[0m\n\u001b[1;32m    215\u001b[0m         \u001b[0;32mif\u001b[0m \u001b[0mconfiguration\u001b[0m\u001b[0;34m.\u001b[0m\u001b[0mconfig\u001b[0m\u001b[0;34m.\u001b[0m\u001b[0menable_backprop\u001b[0m\u001b[0;34m:\u001b[0m\u001b[0;34m\u001b[0m\u001b[0m\n",
      "\u001b[0;32m~/anaconda3/envs/deeprlbootcamp/lib/python3.5/site-packages/chainer/variable.py\u001b[0m in \u001b[0;36m__init__\u001b[0;34m(self, data, **kwargs)\u001b[0m\n\u001b[1;32m    319\u001b[0m             = argument.parse_kwargs(\n\u001b[1;32m    320\u001b[0m                 \u001b[0mkwargs\u001b[0m\u001b[0;34m,\u001b[0m \u001b[0;34m(\u001b[0m\u001b[0;34m'name'\u001b[0m\u001b[0;34m,\u001b[0m \u001b[0;32mNone\u001b[0m\u001b[0;34m)\u001b[0m\u001b[0;34m,\u001b[0m \u001b[0;34m(\u001b[0m\u001b[0;34m'grad'\u001b[0m\u001b[0;34m,\u001b[0m \u001b[0;32mNone\u001b[0m\u001b[0;34m)\u001b[0m\u001b[0;34m,\u001b[0m\u001b[0;34m\u001b[0m\u001b[0m\n\u001b[0;32m--> 321\u001b[0;31m                 ('requires_grad', True))\n\u001b[0m\u001b[1;32m    322\u001b[0m \u001b[0;34m\u001b[0m\u001b[0m\n\u001b[1;32m    323\u001b[0m         if (data is not None and\n",
      "\u001b[0;31mKeyboardInterrupt\u001b[0m: "
     ]
    }
   ],
   "source": [
    "def better_run(model, batchsize=4, num_epochs=2):\n",
    "\n",
    "    optimizer = chainer.optimizers.Adam(alpha=1e-3) # we will use chainer's Adam implementation instead of writing our own gradient based optimization\n",
    "    optimizer.setup(model)\n",
    "    \n",
    "    stats = defaultdict(lambda: deque(maxlen=25))\n",
    "    for epoch in range(num_epochs):\n",
    "        train_iter = chainer.iterators.SerialIterator(train, batchsize, repeat=False, shuffle=True)\n",
    "        for itr, batch in enumerate(train_iter):\n",
    "            xs = np.concatenate([datum[0][None, :] for datum in batch])\n",
    "            ys = np.array([datum[1] for datum in batch])\n",
    "\n",
    "            logits = model(xs)\n",
    "\n",
    "            loss = F.softmax_cross_entropy(logits, ys)\n",
    "            model.cleargrads()\n",
    "            loss.backward()\n",
    "            optimizer.update()\n",
    "            \n",
    "            # calculate stats\n",
    "            stats[\"loss\"].append(float(loss.data))\n",
    "            stats[\"accuracy\"].append(float((logits.data.argmax(1) == ys).sum() / batchsize))\n",
    "            if itr % 300 == 0:\n",
    "                test_iter = chainer.iterators.SerialIterator(test, batchsize, repeat=False, shuffle=False)\n",
    "                # *** YOUR CODE implement logging of stats on test set ***\n",
    "                for _, test_batch in enumerate(test_iter):\n",
    "                    test_xs = np.concatenate([datum[0][None, :] for datum in test_batch])\n",
    "                    test_ys = np.array([datum[1] for datum in test_batch])\n",
    "                    test_logits = model(test_xs)\n",
    "                    test_loss = F.softmax_cross_entropy(test_logits, test_ys)\n",
    "                    stats[\"test_loss\"].append(float(test_loss.data))\n",
    "                    stats[\"test_accuracy\"].append(float((test_logits.data.argmax(1) == test_ys).sum() / batchsize))\n",
    "                    \n",
    "                print(\"; \".join(\"%s: %s\" % (k, np.mean(vs)) for k, vs in stats.items()))\n",
    "\n",
    "better_run(MLP(200, 10))"
   ]
  },
  {
   "cell_type": "markdown",
   "metadata": {},
   "source": [
    "Try different variants!\n",
    "\n",
    "- Does using a ConvNet improve performance (reduce overfitting?)\n",
    "- Try changing the learning rate and observe the effect\n",
    "- Does the model train if you give it correlated gradients? (consecutively sample many batches of \"1\", then many batches of \"2\", ... etc"
   ]
  }
 ],
 "metadata": {
  "kernelspec": {
   "display_name": "Python 3",
   "language": "python",
   "name": "python3"
  },
  "language_info": {
   "codemirror_mode": {
    "name": "ipython",
    "version": 3
   },
   "file_extension": ".py",
   "mimetype": "text/x-python",
   "name": "python",
   "nbconvert_exporter": "python",
   "pygments_lexer": "ipython3",
   "version": "3.5.3"
  }
 },
 "nbformat": 4,
 "nbformat_minor": 1
}
